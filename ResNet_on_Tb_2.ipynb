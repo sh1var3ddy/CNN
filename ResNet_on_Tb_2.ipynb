{
  "nbformat": 4,
  "nbformat_minor": 0,
  "metadata": {
    "colab": {
      "name": "ResNet on Tb-2.ipynb",
      "provenance": [],
      "collapsed_sections": [],
      "authorship_tag": "ABX9TyOygF5uvLGx2bej3EZSfGev",
      "include_colab_link": true
    },
    "kernelspec": {
      "name": "python3",
      "display_name": "Python 3"
    },
    "language_info": {
      "name": "python"
    },
    "accelerator": "TPU"
  },
  "cells": [
    {
      "cell_type": "markdown",
      "metadata": {
        "id": "view-in-github",
        "colab_type": "text"
      },
      "source": [
        "<a href=\"https://colab.research.google.com/github/sh1var3ddy/CNN/blob/main/ResNet_on_Tb_2.ipynb\" target=\"_parent\"><img src=\"https://colab.research.google.com/assets/colab-badge.svg\" alt=\"Open In Colab\"/></a>"
      ]
    },
    {
      "cell_type": "code",
      "source": [
        "import os\n",
        "\n",
        "import shutil\n",
        "\n",
        "import numpy as np\n",
        "from keras.preprocessing import image"
      ],
      "metadata": {
        "id": "LIAOz5_2aLpY"
      },
      "execution_count": null,
      "outputs": []
    },
    {
      "cell_type": "code",
      "source": [
        "# def make_dirs_for_data():\n",
        "\n",
        "#   ! pip install -q kaggle\n",
        "#   from google.colab import files\n",
        "#   files.upload()\n",
        "#   ! mkdir ~/.kaggle\n",
        "#   ! cp kaggle.json ~/.kaggle/\n",
        "#   ! chmod 600 ~/.kaggle/kaggle.json\n",
        "\n",
        "\n",
        "#   !kaggle datasets download -d tawsifurrahman/tuberculosis-tb-chest-xray-dataset\n",
        "\n",
        "#   import zipfile\n",
        "#   zf = \"/content/tuberculosis-tb-chest-xray-dataset.zip\"\n",
        "#   target_dir = \"/content/dataset/cnn/chest-xray\"\n",
        "#   zfile = zipfile.ZipFile(zf)\n",
        "#   zfile.extractall(target_dir)\n",
        "\n",
        "#   path='/content/dataset/cnn/chest-xray/TB_Chest_Radiography_Database/Tuberculosis'\n",
        "#   os.listdir(path)[1]\n",
        "\n",
        "#   par_dir=\"/content/dataset/cnn/chest-xray/TB_Chest_Radiography_Database\"\n",
        "#   path = par_dir+'/test'\n",
        "#   os.mkdir(path)\n",
        "\n",
        "#   path = par_dir+'/validation'\n",
        "#   os.mkdir(path)\n",
        "\n",
        "#   path = par_dir+'/train'\n",
        "#   os.mkdir(path)\n",
        "\n",
        "#   path_of_train = \"/content/dataset/cnn/chest-xray/TB_Chest_Radiography_Database/train\"\n",
        "\n",
        "#   path_of_train_normal = path_of_train+'/Normal'\n",
        "\n",
        "#   path_of_train_Tb = path_of_train+'/Tb'\n",
        "\n",
        "#   os.mkdir(path_of_train_normal)\n",
        "\n",
        "#   os.mkdir(path_of_train_Tb)\n",
        "\n",
        "#   path_of_test = \"/content/dataset/cnn/chest-xray/TB_Chest_Radiography_Database/test\"\n",
        "\n",
        "#   path_of_test_normal = path_of_test+'/Normal'\n",
        "\n",
        "#   path_of_test_Tb = path_of_test+'/Tb'\n",
        "\n",
        "#   os.mkdir(path_of_test_normal)\n",
        "\n",
        "#   os.mkdir(path_of_test_Tb)\n",
        "\n",
        "#   path_of_val = \"/content/dataset/cnn/chest-xray/TB_Chest_Radiography_Database/validation\"\n",
        "\n",
        "#   path_of_val_normal = path_of_val+'/Normal'\n",
        "\n",
        "#   path_of_val_Tb = path_of_val+'/Tb'\n",
        "\n",
        "#   os.mkdir(path_of_val_normal)\n",
        "\n",
        "#   os.mkdir(path_of_val_Tb)\n",
        "  \n",
        "#   source = '/content/dataset/cnn/chest-xray/TB_Chest_Radiography_Database/Normal/'\n",
        "#   destination = '/content/dataset/cnn/chest-xray/TB_Chest_Radiography_Database/train/Normal/'\n",
        "    \n",
        "#   allfiles = os.listdir(source)\n",
        "    \n",
        "#   for f in allfiles:\n",
        "#     shutil.move(source + f, destination + f)\n",
        "\n",
        "#   source = '/content/dataset/cnn/chest-xray/TB_Chest_Radiography_Database/Tuberculosis/'\n",
        "#   destination = '/content/dataset/cnn/chest-xray/TB_Chest_Radiography_Database/train/Tb/'\n",
        "    \n",
        "#   allfiles = os.listdir(source)\n",
        "    \n",
        "#   for f in allfiles:\n",
        "#     shutil.move(source + f, destination + f)\n",
        "\n",
        "#   source = '/content/dataset/cnn/chest-xray/TB_Chest_Radiography_Database/train/Normal/'\n",
        "#   destination = '/content/dataset/cnn/chest-xray/TB_Chest_Radiography_Database/test/Normal/'\n",
        "\n",
        "#   allfiles = os.listdir(source)\n",
        "\n",
        "#   np.random.shuffle(allfiles)\n",
        "\n",
        "#   allfiles = allfiles[:50]\n",
        "    \n",
        "#   for f in allfiles:\n",
        "#     shutil.move(source + f, destination + f)\n",
        "\n",
        "#   source = '/content/dataset/cnn/chest-xray/TB_Chest_Radiography_Database/train/Normal/'\n",
        "#   destination = '/content/dataset/cnn/chest-xray/TB_Chest_Radiography_Database/validation/Normal/'\n",
        "\n",
        "#   allfiles = os.listdir(source)\n",
        "\n",
        "#   np.random.shuffle(allfiles)\n",
        "\n",
        "#   allfiles = allfiles[:50]\n",
        "    \n",
        "#   for f in allfiles:\n",
        "#     shutil.move(source + f, destination + f)\n",
        "\n",
        "#   source = '/content/dataset/cnn/chest-xray/TB_Chest_Radiography_Database/train/Tb/'\n",
        "#   destination = '/content/dataset/cnn/chest-xray/TB_Chest_Radiography_Database/validation/Tb/'\n",
        "\n",
        "#   allfiles = os.listdir(source)\n",
        "\n",
        "#   np.random.shuffle(allfiles)\n",
        "\n",
        "#   allfiles = allfiles[:50]\n",
        "    \n",
        "#   for f in allfiles:\n",
        "#     shutil.move(source + f, destination + f)\n",
        "\n",
        "#   source = '/content/dataset/cnn/chest-xray/TB_Chest_Radiography_Database/train/Tb/'\n",
        "#   destination = '/content/dataset/cnn/chest-xray/TB_Chest_Radiography_Database/test/Tb/'\n",
        "\n",
        "#   allfiles = os.listdir(source)\n",
        "\n",
        "#   np.random.shuffle(allfiles)\n",
        "\n",
        "#   allfiles = allfiles[:50]\n",
        "    \n",
        "#   for f in allfiles:\n",
        "#     shutil.move(source + f, destination + f)\n",
        "  \n",
        "#   print(\"test-normal\",len(os.listdir('/content/dataset/cnn/chest-xray/TB_Chest_Radiography_Database/test/Normal')))\n",
        "#   print(\"val-normal\",len(os.listdir('/content/dataset/cnn/chest-xray/TB_Chest_Radiography_Database/validation/Normal')))\n",
        "#   print(\"train-normal\",len(os.listdir(\"/content/dataset/cnn/chest-xray/TB_Chest_Radiography_Database/train/Normal\")))\n",
        "\n",
        "#   print(\"test-normal\",len(os.listdir('/content/dataset/cnn/chest-xray/TB_Chest_Radiography_Database/test/Tb')))\n",
        "#   print(\"val-normal\",len(os.listdir('/content/dataset/cnn/chest-xray/TB_Chest_Radiography_Database/validation/Tb')))\n",
        "#   print(\"train-normal\",len(os.listdir(\"/content/dataset/cnn/chest-xray/TB_Chest_Radiography_Database/train/Tb\")))"
      ],
      "metadata": {
        "id": "u-zfy92daLra"
      },
      "execution_count": null,
      "outputs": []
    },
    {
      "cell_type": "code",
      "source": [
        "make_dirs_for_data()"
      ],
      "metadata": {
        "colab": {
          "resources": {
            "http://localhost:8080/nbextensions/google.colab/files.js": {
              "data": "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",
              "ok": true,
              "headers": [
                [
                  "content-type",
                  "application/javascript"
                ]
              ],
              "status": 200,
              "status_text": ""
            }
          },
          "base_uri": "https://localhost:8080/",
          "height": 230
        },
        "id": "4kzZxrI_aLtV",
        "outputId": "bf12c1d5-e8e9-4611-a445-ea4038039a8e"
      },
      "execution_count": null,
      "outputs": [
        {
          "output_type": "display_data",
          "data": {
            "text/html": [
              "\n",
              "     <input type=\"file\" id=\"files-5c643acf-923a-4417-b4d3-be1013417043\" name=\"files[]\" multiple disabled\n",
              "        style=\"border:none\" />\n",
              "     <output id=\"result-5c643acf-923a-4417-b4d3-be1013417043\">\n",
              "      Upload widget is only available when the cell has been executed in the\n",
              "      current browser session. Please rerun this cell to enable.\n",
              "      </output>\n",
              "      <script src=\"/nbextensions/google.colab/files.js\"></script> "
            ],
            "text/plain": [
              "<IPython.core.display.HTML object>"
            ]
          },
          "metadata": {}
        },
        {
          "output_type": "stream",
          "name": "stdout",
          "text": [
            "Saving kaggle.json to kaggle.json\n",
            "Downloading tuberculosis-tb-chest-xray-dataset.zip to /content\n",
            " 98% 652M/663M [00:04<00:00, 164MB/s]\n",
            "100% 663M/663M [00:04<00:00, 158MB/s]\n",
            "test-normal 50\n",
            "val-normal 50\n",
            "train-normal 3400\n",
            "test-normal 50\n",
            "val-normal 50\n",
            "train-normal 600\n"
          ]
        }
      ]
    },
    {
      "cell_type": "code",
      "source": [
        "import numpy as np\n",
        "import matplotlib.pyplot as plt\n",
        "import tensorflow as tf\n",
        "import tensorflow.keras.backend as K\n",
        "from tensorflow.keras.layers import (Input, Conv2D, MaxPooling2D, Flatten, \n",
        "                                     Dense, Dropout, BatchNormalization)\n",
        "from tensorflow.keras.models import Sequential\n",
        "from tensorflow.keras.optimizers import Adam\n",
        "from tensorflow.keras import regularizers"
      ],
      "metadata": {
        "id": "cteUTsxHaLve"
      },
      "execution_count": null,
      "outputs": []
    },
    {
      "cell_type": "code",
      "source": [
        "model = Sequential([\n",
        "        Conv2D(64, kernel_size=(3, 3), activation='relu', padding='same', \n",
        "               input_shape=(128, 128, 3)),\n",
        "        BatchNormalization(),\n",
        "        Conv2D(64, kernel_size=(3, 3), activation='relu'),\n",
        "        BatchNormalization(),\n",
        "        MaxPooling2D(pool_size=(2, 2)),\n",
        "        Dropout(0.25),\n",
        "\n",
        "        Conv2D(128, kernel_size=(3, 3), activation='relu', padding='same'),\n",
        "        BatchNormalization(),\n",
        "        Conv2D(128, kernel_size=(3, 3), activation='relu'),\n",
        "        BatchNormalization(),        \n",
        "        MaxPooling2D(pool_size=(2, 2)),\n",
        "        Dropout(0.25),\n",
        "        \n",
        "        Conv2D(256, kernel_size=(3, 3), activation='relu', padding='same'),\n",
        "        BatchNormalization(),\n",
        "        Conv2D(256, kernel_size=(3, 3), activation='relu'),\n",
        "        BatchNormalization(),    \n",
        "        MaxPooling2D(pool_size=(2, 2)),   \n",
        "        Dropout(0.25),\n",
        "        \n",
        "        Flatten(),\n",
        "        \n",
        "        Dense(1024, activation='relu'),\n",
        "        \n",
        "        Dense(512, activation='relu'),\n",
        "        \n",
        "        Dense(1,activation='sigmoid')\n",
        "    ])\n",
        "model.compile(loss='binary_crossentropy',optimizer='adam',metrics=['accuracy'])"
      ],
      "metadata": {
        "id": "Do85pVI_aLxZ"
      },
      "execution_count": null,
      "outputs": []
    },
    {
      "cell_type": "code",
      "source": [
        "from keras.preprocessing.image import ImageDataGenerator\n",
        "\n",
        "train_gen = ImageDataGenerator(rescale=1.0/255,\n",
        "    rotation_range = 40,\n",
        "    width_shift_range = 0.2,\n",
        "    height_shift_range = 0.2,\n",
        "    shear_range = 0.2,\n",
        "    zoom_range = 0.3,\n",
        "    horizontal_flip = True\n",
        "    )\n",
        "\n",
        "\n",
        "val_gen = ImageDataGenerator(rescale=1.0/255)\n",
        "\n",
        "train_generator = train_gen.flow_from_directory(\n",
        "    \"/content/dataset/cnn/chest-xray/TB_Chest_Radiography_Database/train/\",\n",
        "    target_size = (128,128),\n",
        "    batch_size = 32,\n",
        "    class_mode = 'binary'\n",
        ")\n",
        "\n",
        "val_generator = val_gen.flow_from_directory(\n",
        "    \"/content/dataset/cnn/chest-xray/TB_Chest_Radiography_Database/validation/\",\n",
        "    target_size = (128,128),\n",
        "    batch_size = 32,\n",
        "    class_mode = 'binary'\n",
        ")"
      ],
      "metadata": {
        "colab": {
          "base_uri": "https://localhost:8080/"
        },
        "id": "rFlKWDKdaL0q",
        "outputId": "3a04b879-6394-41fa-c329-e9257bf026f6"
      },
      "execution_count": null,
      "outputs": [
        {
          "output_type": "stream",
          "name": "stdout",
          "text": [
            "Found 4000 images belonging to 2 classes.\n",
            "Found 100 images belonging to 2 classes.\n"
          ]
        }
      ]
    },
    {
      "cell_type": "code",
      "source": [
        "train_generator.image_shape"
      ],
      "metadata": {
        "colab": {
          "base_uri": "https://localhost:8080/"
        },
        "id": "Ve2Sol3paL21",
        "outputId": "1bbc0b9c-42b1-4fa0-9dfe-3b56cc261aae"
      },
      "execution_count": null,
      "outputs": [
        {
          "output_type": "execute_result",
          "data": {
            "text/plain": [
              "(128, 128, 3)"
            ]
          },
          "metadata": {},
          "execution_count": 12
        }
      ]
    },
    {
      "cell_type": "code",
      "source": [
        "train_generator.class_indices"
      ],
      "metadata": {
        "colab": {
          "base_uri": "https://localhost:8080/"
        },
        "id": "M63l19mmaL44",
        "outputId": "50019749-8785-4671-a8cf-18bc437cf63b"
      },
      "execution_count": null,
      "outputs": [
        {
          "output_type": "execute_result",
          "data": {
            "text/plain": [
              "{'Normal': 0, 'Tb': 1}"
            ]
          },
          "metadata": {},
          "execution_count": 13
        }
      ]
    },
    {
      "cell_type": "code",
      "source": [
        "my_callbacks = [\n",
        "    tf.keras.callbacks.EarlyStopping(patience=2),\n",
        "    tf.keras.callbacks.ModelCheckpoint(filepath='model.{epoch:02d}-{val_loss:.2f}.h5',\n",
        "                              monitor='val_loss',\n",
        "                             verbose=1, \n",
        "                             save_best_only=True),\n",
        "    tf.keras.callbacks.TensorBoard(log_dir='./logs'),\n",
        "]"
      ],
      "metadata": {
        "id": "TulpBVYcaL6p"
      },
      "execution_count": null,
      "outputs": []
    },
    {
      "cell_type": "code",
      "source": [
        "# from google.colab import drive\n",
        "# drive.mount('/content/drive')"
      ],
      "metadata": {
        "id": "r6GA89E6hJeT"
      },
      "execution_count": null,
      "outputs": []
    },
    {
      "cell_type": "code",
      "source": [
        "hist_new = model.fit_generator(\n",
        "    train_generator,\n",
        "    steps_per_epoch=10,\n",
        "    epochs = 10,\n",
        "    validation_data = val_generator,\n",
        "    validation_steps=2,\n",
        "    callbacks=my_callbacks\n",
        ")"
      ],
      "metadata": {
        "colab": {
          "base_uri": "https://localhost:8080/"
        },
        "id": "EJwFU60BgCiw",
        "outputId": "2c319604-780e-4145-a7eb-1eddd1d6b3e1"
      },
      "execution_count": null,
      "outputs": [
        {
          "output_type": "stream",
          "name": "stderr",
          "text": [
            "/usr/local/lib/python3.7/dist-packages/ipykernel_launcher.py:7: UserWarning: `Model.fit_generator` is deprecated and will be removed in a future version. Please use `Model.fit`, which supports generators.\n",
            "  import sys\n"
          ]
        },
        {
          "output_type": "stream",
          "name": "stdout",
          "text": [
            "Epoch 1/10\n",
            "10/10 [==============================] - ETA: 0s - loss: 6.7587 - accuracy: 0.7344 \n",
            "Epoch 00001: val_loss improved from inf to 41.32990, saving model to model.01-41.33.h5\n",
            "10/10 [==============================] - 123s 12s/step - loss: 6.7587 - accuracy: 0.7344 - val_loss: 41.3299 - val_accuracy: 0.5781\n",
            "Epoch 2/10\n",
            "10/10 [==============================] - ETA: 0s - loss: 3.5281 - accuracy: 0.7844 \n",
            "Epoch 00002: val_loss improved from 41.32990 to 6.03128, saving model to model.02-6.03.h5\n",
            "10/10 [==============================] - 122s 12s/step - loss: 3.5281 - accuracy: 0.7844 - val_loss: 6.0313 - val_accuracy: 0.5000\n",
            "Epoch 3/10\n",
            "10/10 [==============================] - ETA: 0s - loss: 1.0758 - accuracy: 0.8687 \n",
            "Epoch 00003: val_loss improved from 6.03128 to 0.76925, saving model to model.03-0.77.h5\n",
            "10/10 [==============================] - 125s 13s/step - loss: 1.0758 - accuracy: 0.8687 - val_loss: 0.7693 - val_accuracy: 0.7656\n",
            "Epoch 4/10\n",
            "10/10 [==============================] - ETA: 0s - loss: 0.8944 - accuracy: 0.8719 \n",
            "Epoch 00004: val_loss did not improve from 0.76925\n",
            "10/10 [==============================] - 124s 13s/step - loss: 0.8944 - accuracy: 0.8719 - val_loss: 3.7900 - val_accuracy: 0.5312\n",
            "Epoch 5/10\n",
            "10/10 [==============================] - ETA: 0s - loss: 0.8422 - accuracy: 0.8781 \n",
            "Epoch 00005: val_loss improved from 0.76925 to 0.50411, saving model to model.05-0.50.h5\n",
            "10/10 [==============================] - 131s 13s/step - loss: 0.8422 - accuracy: 0.8781 - val_loss: 0.5041 - val_accuracy: 0.7969\n",
            "Epoch 6/10\n",
            "10/10 [==============================] - ETA: 0s - loss: 0.9469 - accuracy: 0.8938 \n",
            "Epoch 00006: val_loss did not improve from 0.50411\n",
            "10/10 [==============================] - 133s 13s/step - loss: 0.9469 - accuracy: 0.8938 - val_loss: 3.1538 - val_accuracy: 0.5312\n",
            "Epoch 7/10\n",
            "10/10 [==============================] - ETA: 0s - loss: 0.8158 - accuracy: 0.9031 \n",
            "Epoch 00007: val_loss did not improve from 0.50411\n",
            "10/10 [==============================] - 135s 14s/step - loss: 0.8158 - accuracy: 0.9031 - val_loss: 4.7635 - val_accuracy: 0.5156\n"
          ]
        }
      ]
    },
    {
      "cell_type": "code",
      "source": [
        "plt.style.use(\"seaborn-dark\")\n",
        "plt.title(\"Accuracy\")\n",
        "plt.plot(hist_new.history['accuracy'],label=\"accuracy\",c='green')\n",
        "plt.plot(hist_new.history['val_accuracy'],label=\"val_accuracy\",c='orange')\n",
        "plt.legend()\n",
        "plt.show()"
      ],
      "metadata": {
        "colab": {
          "base_uri": "https://localhost:8080/",
          "height": 277
        },
        "id": "n1w1X-1-gCf3",
        "outputId": "b0795096-2478-4197-e254-b5af87d45e8e"
      },
      "execution_count": null,
      "outputs": [
        {
          "output_type": "display_data",
          "data": {
            "image/png": "[encoded data removed]",
            "text/plain": [
              "<Figure size 432x288 with 1 Axes>"
            ]
          },
          "metadata": {}
        }
      ]
    },
    {
      "cell_type": "code",
      "source": [
        "plt.style.use(\"seaborn-dark\")\n",
        "plt.title(\"Loss\")\n",
        "plt.plot(hist_new.history['loss'],label=\"loss\",c='green')\n",
        "plt.plot(hist_new.history['val_loss'],label=\"val_loss\",c='orange')\n",
        "plt.legend()\n",
        "plt.show()"
      ],
      "metadata": {
        "colab": {
          "base_uri": "https://localhost:8080/",
          "height": 277
        },
        "id": "OIdFPuaigCdn",
        "outputId": "889eb635-247a-40d4-8848-13156fd05c24"
      },
      "execution_count": null,
      "outputs": [
        {
          "output_type": "display_data",
          "data": {
            "image/png": "[encoded data removed]",
            "text/plain": [
              "<Figure size 432x288 with 1 Axes>"
            ]
          },
          "metadata": {}
        }
      ]
    },
    {
      "cell_type": "code",
      "source": [
        "import keras\n",
        "model = keras.models.load_model(filepath='/content/model.05-0.50.h5')"
      ],
      "metadata": {
        "id": "sNnqJAOVgCbQ"
      },
      "execution_count": null,
      "outputs": []
    },
    {
      "cell_type": "code",
      "source": [
        "model.evaluate_generator(val_generator)"
      ],
      "metadata": {
        "colab": {
          "base_uri": "https://localhost:8080/"
        },
        "id": "VUis1-dNgCZG",
        "outputId": "339119fe-b9d6-403e-b585-fafa9431c823"
      },
      "execution_count": null,
      "outputs": [
        {
          "output_type": "stream",
          "name": "stderr",
          "text": [
            "/usr/local/lib/python3.7/dist-packages/ipykernel_launcher.py:1: UserWarning: `Model.evaluate_generator` is deprecated and will be removed in a future version. Please use `Model.evaluate`, which supports generators.\n",
            "  \"\"\"Entry point for launching an IPython kernel.\n"
          ]
        },
        {
          "output_type": "execute_result",
          "data": {
            "text/plain": [
              "[0.46487781405448914, 0.8100000023841858]"
            ]
          },
          "metadata": {},
          "execution_count": 24
        }
      ]
    },
    {
      "cell_type": "code",
      "source": [
        "test_gen = ImageDataGenerator(rescale=1.0/255)\n",
        "\n",
        "test_generator = test_gen.flow_from_directory(\n",
        "    \"/content/dataset/cnn/chest-xray/TB_Chest_Radiography_Database/test/\",\n",
        "    target_size = (128,128),\n",
        "    batch_size = 32,\n",
        "    class_mode = 'binary'\n",
        ")"
      ],
      "metadata": {
        "colab": {
          "base_uri": "https://localhost:8080/"
        },
        "id": "wwsB3mnHgCWQ",
        "outputId": "e8ce7d65-ef3b-4a47-e5d3-f37459465933"
      },
      "execution_count": null,
      "outputs": [
        {
          "output_type": "stream",
          "name": "stdout",
          "text": [
            "Found 100 images belonging to 2 classes.\n"
          ]
        }
      ]
    },
    {
      "cell_type": "code",
      "source": [
        "result = model.evaluate(test_generator)"
      ],
      "metadata": {
        "colab": {
          "base_uri": "https://localhost:8080/"
        },
        "id": "wtxaEitYaL8U",
        "outputId": "0910510e-0526-4d29-98f8-056a1ac2e19a"
      },
      "execution_count": null,
      "outputs": [
        {
          "output_type": "stream",
          "name": "stdout",
          "text": [
            "4/4 [==============================] - 10s 2s/step - loss: 0.7793 - accuracy: 0.7700\n"
          ]
        }
      ]
    },
    {
      "cell_type": "code",
      "source": [
        ""
      ],
      "metadata": {
        "id": "b_yH2mxFaL_w"
      },
      "execution_count": null,
      "outputs": []
    },
    {
      "cell_type": "code",
      "source": [
        "y_actual, y_test = [],[]"
      ],
      "metadata": {
        "id": "k9dJRyLVqTxg"
      },
      "execution_count": null,
      "outputs": []
    },
    {
      "cell_type": "code",
      "source": [
        "for i in os.listdir(\"/content/dataset/cnn/chest-xray/TB_Chest_Radiography_Database/test/Tb/\"):\n",
        "    img=image.load_img(\"/content/dataset/cnn/chest-xray/TB_Chest_Radiography_Database/test/Tb/\"+i,target_size=(128,128))\n",
        "    img=image.img_to_array(img)\n",
        "    img=np.expand_dims(img,axis=0)\n",
        "    pred=model.predict(img)\n",
        "    y_test.append(pred[0,0])\n",
        "    y_actual.append(1)"
      ],
      "metadata": {
        "id": "3ja5YFGUqTuD"
      },
      "execution_count": null,
      "outputs": []
    },
    {
      "cell_type": "code",
      "source": [
        "for i in os.listdir(\"/content/dataset/cnn/chest-xray/TB_Chest_Radiography_Database/test/Normal/\"):\n",
        "    img=image.load_img(\"/content/dataset/cnn/chest-xray/TB_Chest_Radiography_Database/test/Normal/\"+i,target_size=(128,128))\n",
        "    img=image.img_to_array(img)\n",
        "    img=np.expand_dims(img,axis=0)\n",
        "    pred=model.predict(img)\n",
        "    y_test.append(pred[0,0])\n",
        "    y_actual.append(0)"
      ],
      "metadata": {
        "id": "ENGvgLnbqTqb"
      },
      "execution_count": null,
      "outputs": []
    },
    {
      "cell_type": "code",
      "source": [
        "y_actual=np.array(y_actual)\n",
        "y_test=np.array(y_test)\n",
        "\n",
        "y_actual = y_actual.astype(int)\n",
        "y_test = y_test.astype(int)"
      ],
      "metadata": {
        "id": "m-TGJaDBq255"
      },
      "execution_count": null,
      "outputs": []
    },
    {
      "cell_type": "code",
      "source": [
        "from sklearn.metrics import confusion_matrix\n",
        "import seaborn as sns\n",
        "cn=confusion_matrix(y_actual,y_test)"
      ],
      "metadata": {
        "id": "hIpQeMS8q2sD"
      },
      "execution_count": null,
      "outputs": []
    },
    {
      "cell_type": "code",
      "source": [
        "sns.heatmap(cn,cmap=\"plasma\",annot=True)"
      ],
      "metadata": {
        "colab": {
          "base_uri": "https://localhost:8080/",
          "height": 279
        },
        "id": "ItU6UNlHq2o3",
        "outputId": "0eb68b4f-d63f-4a20-d1e9-7c3ac432b3ea"
      },
      "execution_count": null,
      "outputs": [
        {
          "output_type": "execute_result",
          "data": {
            "text/plain": [
              "<matplotlib.axes._subplots.AxesSubplot at 0x7f8e45fcb4d0>"
            ]
          },
          "metadata": {},
          "execution_count": 34
        },
        {
          "output_type": "display_data",
          "data": {
            "image/png": "[encoded data removed]",
            "text/plain": [
              "<Figure size 432x288 with 2 Axes>"
            ]
          },
          "metadata": {}
        }
      ]
    },
    {
      "cell_type": "code",
      "source": [
        ""
      ],
      "metadata": {
        "id": "Pkg-vcxgq2l5"
      },
      "execution_count": null,
      "outputs": []
    }
  ]
}