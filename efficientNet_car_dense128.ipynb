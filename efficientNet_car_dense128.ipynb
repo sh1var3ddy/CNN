{
  "nbformat": 4,
  "nbformat_minor": 0,
  "metadata": {
    "colab": {
      "provenance": [],
      "authorship_tag": "ABX9TyPwMS2svcxkEBpdelRYkqtc",
      "include_colab_link": true
    },
    "kernelspec": {
      "name": "python3",
      "display_name": "Python 3"
    },
    "language_info": {
      "name": "python"
    },
    "accelerator": "GPU",
    "gpuClass": "standard"
  },
  "cells": [
    {
      "cell_type": "markdown",
      "metadata": {
        "id": "view-in-github",
        "colab_type": "text"
      },
      "source": [
        "<a href=\"https://colab.research.google.com/github/sh1var3ddy/CNN/blob/main/efficientNet_car_dense128.ipynb\" target=\"_parent\"><img src=\"https://colab.research.google.com/assets/colab-badge.svg\" alt=\"Open In Colab\"/></a>"
      ]
    },
    {
      "cell_type": "code",
      "source": [
        "from google.colab import drive\n",
        "drive.mount('/content/drive')"
      ],
      "metadata": {
        "colab": {
          "base_uri": "https://localhost:8080/"
        },
        "id": "3o-mLrjnanJI",
        "outputId": "817172fd-7ee8-4f7a-def0-2870accdcd1d"
      },
      "execution_count": 1,
      "outputs": [
        {
          "output_type": "stream",
          "name": "stdout",
          "text": [
            "Mounted at /content/drive\n"
          ]
        }
      ]
    },
    {
      "cell_type": "code",
      "source": [
        "import os\n",
        "import itertools\n",
        "import numpy as np\n",
        "import tensorflow as tf\n",
        "import plotly.express as px\n",
        "import matplotlib.pyplot as plt\n",
        "from collections import Counter\n",
        "from tensorflow.keras import regularizers\n",
        "from sklearn.metrics import confusion_matrix\n",
        "from sklearn.metrics import multilabel_confusion_matrix"
      ],
      "metadata": {
        "id": "_zG2kCtmanF_"
      },
      "execution_count": 2,
      "outputs": []
    },
    {
      "cell_type": "code",
      "source": [
        "folder_path = \"/content/drive/MyDrive/classification_data_ls\""
      ],
      "metadata": {
        "id": "3yzn19pzanCM"
      },
      "execution_count": 3,
      "outputs": []
    },
    {
      "cell_type": "code",
      "source": [
        "pic_size = 256\n",
        "epochs = 20\n",
        "batch_size =8\n",
        "tf.random.set_seed(42)\n",
        "np.random.seed(42)"
      ],
      "metadata": {
        "id": "BA_jCiYPanAd"
      },
      "execution_count": 4,
      "outputs": []
    },
    {
      "cell_type": "code",
      "execution_count": 5,
      "metadata": {
        "colab": {
          "base_uri": "https://localhost:8080/"
        },
        "id": "C2qnascGakXy",
        "outputId": "5bc814cb-b34d-4fdd-9b70-b7883cb52691"
      },
      "outputs": [
        {
          "output_type": "stream",
          "name": "stdout",
          "text": [
            "Looking in indexes: https://pypi.org/simple, https://us-python.pkg.dev/colab-wheels/public/simple/\n",
            "Collecting split_folders\n",
            "  Downloading split_folders-0.5.1-py3-none-any.whl (8.4 kB)\n",
            "Installing collected packages: split_folders\n",
            "Successfully installed split_folders-0.5.1\n"
          ]
        }
      ],
      "source": [
        "!pip install split_folders"
      ]
    },
    {
      "cell_type": "code",
      "source": [
        "import splitfolders\n",
        "\n",
        "\n",
        "splitfolders.ratio(folder_path, output='/content/', seed=42, ratio=(0.8,0.2))"
      ],
      "metadata": {
        "colab": {
          "base_uri": "https://localhost:8080/"
        },
        "id": "H75434QXbPNd",
        "outputId": "dcbb2b87-6347-459f-9126-0ed4b335b502"
      },
      "execution_count": 6,
      "outputs": [
        {
          "output_type": "stream",
          "name": "stderr",
          "text": [
            "Copying files: 5002 files [01:52, 44.31 files/s] \n"
          ]
        }
      ]
    },
    {
      "cell_type": "code",
      "source": [
        "datagen  = tf.keras.preprocessing.image.ImageDataGenerator(\n",
        "    horizontal_flip=True,\n",
        "    rotation_range=20, \n",
        "    width_shift_range=.2,\n",
        "    height_shift_range=.2, \n",
        "    zoom_range=.2,\n",
        "    validation_split=0.2,\n",
        "    preprocessing_function=tf.keras.applications.efficientnet.preprocess_input\n",
        ")\n",
        "\n",
        "train_set = datagen.flow_from_directory('/content/train',\n",
        "                                              target_size = (pic_size,pic_size),\n",
        "                                              color_mode = \"rgb\",\n",
        "                                              batch_size=batch_size,\n",
        "                                              class_mode='categorical',\n",
        "                                              subset='training',\n",
        "                                              shuffle=True)\n",
        "\n",
        "val_set = datagen.flow_from_directory('/content/val',\n",
        "                                              target_size = (pic_size,pic_size),\n",
        "                                              color_mode = \"rgb\",\n",
        "                                              batch_size=batch_size,\n",
        "                                              class_mode='categorical',\n",
        "                                              subset='validation',\n",
        "                                              shuffle=False)"
      ],
      "metadata": {
        "colab": {
          "base_uri": "https://localhost:8080/"
        },
        "id": "gomdKTUOcv8G",
        "outputId": "79ba354d-7d98-481c-c321-873a782fb007"
      },
      "execution_count": 5,
      "outputs": [
        {
          "output_type": "stream",
          "name": "stdout",
          "text": [
            "Found 3202 images belonging to 5 classes.\n",
            "Found 198 images belonging to 5 classes.\n"
          ]
        }
      ]
    },
    {
      "cell_type": "code",
      "source": [
        "print(train_set.class_indices)"
      ],
      "metadata": {
        "colab": {
          "base_uri": "https://localhost:8080/"
        },
        "id": "sOtFvkB1cv_s",
        "outputId": "522bb479-9a53-4fa9-a252-476d607d4f52"
      },
      "execution_count": 6,
      "outputs": [
        {
          "output_type": "stream",
          "name": "stdout",
          "text": [
            "{'Hatchback': 0, 'MPV': 1, 'Minivan': 2, 'SUV': 3, 'Sedan': 4}\n"
          ]
        }
      ]
    },
    {
      "cell_type": "code",
      "source": [
        "base_model=tf.keras.applications.EfficientNetB0(include_top=False, weights=\"imagenet\",input_shape=(pic_size, pic_size, 3), pooling='max') \n",
        "x = base_model.output\n",
        "x = tf.keras.layers.BatchNormalization(axis=-1, momentum=0.99, epsilon=0.001 )(x)\n",
        "x = tf.keras.layers.Dense(128, kernel_regularizer = tf.keras.regularizers.l2(l = 0.016),activity_regularizer=tf.keras.regularizers.l1(0.006),\n",
        "                bias_regularizer=tf.keras.regularizers.l1(0.006) ,activation='relu')(x)\n",
        "x = tf.keras.layers.Dropout(rate=.45, seed=123)(x)        \n",
        "output = tf.keras.layers.Dense(5, activation='softmax')(x)\n",
        "model = tf.keras.Model(inputs=base_model.input, outputs=output)"
      ],
      "metadata": {
        "id": "zB64KSugc_jC"
      },
      "execution_count": 30,
      "outputs": []
    },
    {
      "cell_type": "code",
      "source": [
        "import tensorflow as tf\n",
        "from tensorflow import keras\n",
        "import tensorflow.keras.backend as K\n",
        "from tensorflow.keras.layers import (Input, Conv2D, MaxPooling2D, Flatten, \n",
        "                                     Dense, Dropout, BatchNormalization)\n",
        "from tensorflow.keras.models import Sequential\n",
        "from tensorflow.keras.optimizers import Adam\n",
        "from tensorflow.keras import regularizers\n",
        "my_callbacks = [\n",
        "    tf.keras.callbacks.EarlyStopping(patience=3),\n",
        "    tf.keras.callbacks.ModelCheckpoint(filepath='model.{epoch:02d}-{val_loss:.2f}.h5',\n",
        "                              monitor='val_loss',\n",
        "                             verbose=1, \n",
        "                             save_best_only=True),\n",
        "    tf.keras.callbacks.TensorBoard(log_dir='./logs'),\n",
        "]"
      ],
      "metadata": {
        "id": "njtDRCyCc_lp"
      },
      "execution_count": 24,
      "outputs": []
    },
    {
      "cell_type": "code",
      "source": [
        "callback = tf.keras.callbacks.EarlyStopping(monitor='val_loss', patience=3)"
      ],
      "metadata": {
        "id": "6OdCAxhwfrXg"
      },
      "execution_count": 31,
      "outputs": []
    },
    {
      "cell_type": "code",
      "source": [
        "model.summary()"
      ],
      "metadata": {
        "id": "qJR9X4dtc_ok"
      },
      "execution_count": null,
      "outputs": []
    },
    {
      "cell_type": "code",
      "source": [
        "model.compile(tf.keras.optimizers.Adamax(learning_rate=.001), loss='categorical_crossentropy', metrics=['accuracy']) "
      ],
      "metadata": {
        "id": "DdaExL9ac_rs"
      },
      "execution_count": 32,
      "outputs": []
    },
    {
      "cell_type": "code",
      "source": [
        "history = model.fit(train_set, \n",
        "                    validation_data = val_set,\n",
        "                    epochs = 100,\n",
        "                    batch_size = batch_size,\n",
        "                    verbose=1,callbacks=[callback])"
      ],
      "metadata": {
        "colab": {
          "base_uri": "https://localhost:8080/"
        },
        "id": "IJ9NxIxKc_s6",
        "outputId": "c67d3899-7bad-449f-ce3a-3adb27749948"
      },
      "execution_count": 33,
      "outputs": [
        {
          "output_type": "stream",
          "name": "stdout",
          "text": [
            "Epoch 1/100\n",
            "401/401 [==============================] - 125s 213ms/step - loss: 5.4665 - accuracy: 0.3360 - val_loss: 4.4536 - val_accuracy: 0.4798\n",
            "Epoch 2/100\n",
            "401/401 [==============================] - 81s 202ms/step - loss: 4.2299 - accuracy: 0.4460 - val_loss: 3.6002 - val_accuracy: 0.5505\n",
            "Epoch 3/100\n",
            "401/401 [==============================] - 83s 207ms/step - loss: 3.3445 - accuracy: 0.5278 - val_loss: 3.0719 - val_accuracy: 0.5556\n",
            "Epoch 4/100\n",
            "401/401 [==============================] - 81s 203ms/step - loss: 2.6978 - accuracy: 0.5928 - val_loss: 2.3740 - val_accuracy: 0.6566\n",
            "Epoch 5/100\n",
            "401/401 [==============================] - 83s 207ms/step - loss: 2.2141 - accuracy: 0.6337 - val_loss: 2.0153 - val_accuracy: 0.7020\n",
            "Epoch 6/100\n",
            "401/401 [==============================] - 82s 204ms/step - loss: 1.8468 - accuracy: 0.6758 - val_loss: 1.7898 - val_accuracy: 0.6364\n",
            "Epoch 7/100\n",
            "401/401 [==============================] - 83s 206ms/step - loss: 1.5907 - accuracy: 0.7058 - val_loss: 1.5712 - val_accuracy: 0.7172\n",
            "Epoch 8/100\n",
            "401/401 [==============================] - 82s 203ms/step - loss: 1.3794 - accuracy: 0.7283 - val_loss: 1.4059 - val_accuracy: 0.7475\n",
            "Epoch 9/100\n",
            "401/401 [==============================] - 83s 207ms/step - loss: 1.2251 - accuracy: 0.7564 - val_loss: 1.4293 - val_accuracy: 0.7121\n",
            "Epoch 10/100\n",
            "401/401 [==============================] - 81s 203ms/step - loss: 1.1287 - accuracy: 0.7623 - val_loss: 1.3364 - val_accuracy: 0.6768\n",
            "Epoch 11/100\n",
            "401/401 [==============================] - 83s 208ms/step - loss: 1.0230 - accuracy: 0.7889 - val_loss: 1.3382 - val_accuracy: 0.6869\n",
            "Epoch 12/100\n",
            "401/401 [==============================] - 81s 203ms/step - loss: 0.9598 - accuracy: 0.8039 - val_loss: 1.2278 - val_accuracy: 0.7020\n",
            "Epoch 13/100\n",
            "401/401 [==============================] - 83s 207ms/step - loss: 0.8573 - accuracy: 0.8289 - val_loss: 1.1267 - val_accuracy: 0.7071\n",
            "Epoch 14/100\n",
            "401/401 [==============================] - 82s 204ms/step - loss: 0.8075 - accuracy: 0.8398 - val_loss: 1.0922 - val_accuracy: 0.7424\n",
            "Epoch 15/100\n",
            "401/401 [==============================] - 83s 207ms/step - loss: 0.7735 - accuracy: 0.8342 - val_loss: 1.1865 - val_accuracy: 0.7121\n",
            "Epoch 16/100\n",
            "401/401 [==============================] - 81s 201ms/step - loss: 0.7439 - accuracy: 0.8479 - val_loss: 1.0286 - val_accuracy: 0.7828\n",
            "Epoch 17/100\n",
            "401/401 [==============================] - 83s 206ms/step - loss: 0.6960 - accuracy: 0.8691 - val_loss: 1.1283 - val_accuracy: 0.7222\n",
            "Epoch 18/100\n",
            "401/401 [==============================] - 82s 205ms/step - loss: 0.6564 - accuracy: 0.8798 - val_loss: 1.0704 - val_accuracy: 0.7121\n",
            "Epoch 19/100\n",
            "401/401 [==============================] - 81s 201ms/step - loss: 0.6323 - accuracy: 0.8795 - val_loss: 1.0076 - val_accuracy: 0.7677\n",
            "Epoch 20/100\n",
            "401/401 [==============================] - 82s 205ms/step - loss: 0.6164 - accuracy: 0.8776 - val_loss: 1.0333 - val_accuracy: 0.7626\n",
            "Epoch 21/100\n",
            "401/401 [==============================] - 82s 204ms/step - loss: 0.5566 - accuracy: 0.9010 - val_loss: 1.0663 - val_accuracy: 0.7576\n",
            "Epoch 22/100\n",
            "401/401 [==============================] - 84s 210ms/step - loss: 0.5638 - accuracy: 0.8926 - val_loss: 1.0136 - val_accuracy: 0.7626\n"
          ]
        }
      ]
    },
    {
      "cell_type": "code",
      "source": [
        "get_acc = history.history['accuracy']\n",
        "value_acc = history.history['val_accuracy']\n",
        "get_loss = history.history['loss']\n",
        "validation_loss = history.history['val_loss']\n",
        "\n",
        "epochs = range(len(get_acc))\n",
        "plt.plot(epochs, get_acc, 'r', label='Accuracy of Training data')\n",
        "plt.plot(epochs, value_acc, 'b', label='Accuracy of Validation data')\n",
        "plt.title('Training vs validation accuracy')\n",
        "plt.legend(loc=0)\n",
        "plt.figure()\n",
        "plt.show()"
      ],
      "metadata": {
        "id": "XkxcNljKgaF5",
        "colab": {
          "base_uri": "https://localhost:8080/",
          "height": 298
        },
        "outputId": "0ec8c2cc-17c7-4f85-e923-1263edf67289"
      },
      "execution_count": 34,
      "outputs": [
        {
          "output_type": "display_data",
          "data": {
            "text/plain": [
              "<Figure size 432x288 with 1 Axes>"
            ],
            "image/png": "[encoded data removed]"
          },
          "metadata": {
            "needs_background": "light"
          }
        },
        {
          "output_type": "display_data",
          "data": {
            "text/plain": [
              "<Figure size 432x288 with 0 Axes>"
            ]
          },
          "metadata": {}
        }
      ]
    },
    {
      "cell_type": "code",
      "source": [
        "epochs = range(len(get_loss))\n",
        "plt.plot(epochs, get_loss, 'r', label='Loss of Training data')\n",
        "plt.plot(epochs, validation_loss, 'b', label='Loss of Validation data')\n",
        "plt.title('Training vs validation loss')\n",
        "plt.legend(loc=0)\n",
        "plt.figure()\n",
        "plt.show()"
      ],
      "metadata": {
        "id": "hebiN5INgaLE",
        "colab": {
          "base_uri": "https://localhost:8080/",
          "height": 298
        },
        "outputId": "0553ddb9-0742-46d3-dae3-aa5f1e24429b"
      },
      "execution_count": 36,
      "outputs": [
        {
          "output_type": "display_data",
          "data": {
            "text/plain": [
              "<Figure size 432x288 with 1 Axes>"
            ],
            "image/png": "[encoded data removed]"
          },
          "metadata": {
            "needs_background": "light"
          }
        },
        {
          "output_type": "display_data",
          "data": {
            "text/plain": [
              "<Figure size 432x288 with 0 Axes>"
            ]
          },
          "metadata": {}
        }
      ]
    },
    {
      "cell_type": "code",
      "source": [
        "results = model.evaluate(val_set)\n",
        "preds   = model.predict(val_set)\n",
        "print('The current model achieved a categorical accuracy of {}%!'.format(round(results[1]*100,2)))"
      ],
      "metadata": {
        "id": "86YDbPjYgarO",
        "colab": {
          "base_uri": "https://localhost:8080/"
        },
        "outputId": "05aba759-e07c-41cd-8845-422a8a2987a4"
      },
      "execution_count": 35,
      "outputs": [
        {
          "output_type": "stream",
          "name": "stdout",
          "text": [
            "25/25 [==============================] - 4s 151ms/step - loss: 1.0037 - accuracy: 0.7929\n",
            "25/25 [==============================] - 8s 228ms/step\n",
            "The current model achieved a categorical accuracy of 79.29%!\n"
          ]
        }
      ]
    },
    {
      "cell_type": "code",
      "source": [
        "predictions = model.predict(val_set)\n",
        "y_pred = [np.argmax(probas) for probas in predictions]\n",
        "y_test = val_set.classes\n",
        "class_names = val_set.class_indices.keys()"
      ],
      "metadata": {
        "id": "ydE4RkPfgau0",
        "colab": {
          "base_uri": "https://localhost:8080/"
        },
        "outputId": "7a968728-cd38-4d5c-e641-5a93d7bdcba9"
      },
      "execution_count": 37,
      "outputs": [
        {
          "output_type": "stream",
          "name": "stdout",
          "text": [
            "25/25 [==============================] - 4s 144ms/step\n"
          ]
        }
      ]
    },
    {
      "cell_type": "code",
      "source": [
        "def plot_confusion_matrix(cm, classes, title='Confusion matrix', cmap=plt.cm.Blues):\n",
        "    cm = cm.astype('float') / cm.sum(axis=1)[:, np.newaxis]\n",
        "    plt.figure(figsize=(10,10))\n",
        "    plt.imshow(cm, interpolation='nearest', cmap=cmap)\n",
        "    plt.title(title)\n",
        "    plt.colorbar()\n",
        "    tick_marks = np.arange(len(classes))\n",
        "    plt.xticks(tick_marks, classes, rotation=45)\n",
        "    plt.yticks(tick_marks, classes)\n",
        "\n",
        "    fmt = '.2f'\n",
        "    thresh = cm.max() / 2.\n",
        "    for i, j in itertools.product(range(cm.shape[0]), range(cm.shape[1])):\n",
        "        plt.text(j, i, format(cm[i, j], fmt),\n",
        "                 horizontalalignment=\"center\",\n",
        "                 color=\"white\" if cm[i, j] > thresh else \"black\")\n",
        "\n",
        "    plt.ylabel('True label')\n",
        "    plt.xlabel('Predicted label')\n",
        "    plt.tight_layout()\n"
      ],
      "metadata": {
        "id": "U8pMS7Rkga0t"
      },
      "execution_count": 38,
      "outputs": []
    },
    {
      "cell_type": "code",
      "source": [
        "def walk_data(mydict, folder_path):\n",
        "    for (root,dirs,files) in os.walk(folder_path, topdown=False):\n",
        "        if len(files)>0:\n",
        "            mydict[root]=len(files)"
      ],
      "metadata": {
        "id": "tGnYmKLb-H9G"
      },
      "execution_count": 41,
      "outputs": []
    },
    {
      "cell_type": "code",
      "source": [
        "train_dict = dict()\n",
        "walk_data(train_dict, folder_path)"
      ],
      "metadata": {
        "id": "WpeAm-Ja-H5l"
      },
      "execution_count": 42,
      "outputs": []
    },
    {
      "cell_type": "code",
      "source": [
        "def fix_keys(mydict):\n",
        "    new_dict = dict()\n",
        "    for k, v in mydict.items():\n",
        "        new_k = k.split('/')[-1]\n",
        "        new_dict[new_k] = v\n",
        "    return new_dict"
      ],
      "metadata": {
        "id": "yRL_1_3B-H4J"
      },
      "execution_count": 43,
      "outputs": []
    },
    {
      "cell_type": "code",
      "source": [
        "train_dict = fix_keys(train_dict)\n",
        "print(train_dict)"
      ],
      "metadata": {
        "colab": {
          "base_uri": "https://localhost:8080/"
        },
        "id": "JORsNv3B-PxM",
        "outputId": "43d114ef-37d8-43a2-832d-5b13ff406c11"
      },
      "execution_count": 44,
      "outputs": [
        {
          "output_type": "stream",
          "name": "stdout",
          "text": [
            "{'SUV': 1016, 'Sedan': 1019, 'Minivan': 977, 'Hatchback': 1010, 'MPV': 980}\n"
          ]
        }
      ]
    },
    {
      "cell_type": "code",
      "source": [
        "label_train_dict = {'Car Types':train_dict.keys(), 'Count':train_dict.values}"
      ],
      "metadata": {
        "id": "JcChMdla-VJe"
      },
      "execution_count": 45,
      "outputs": []
    },
    {
      "cell_type": "code",
      "source": [
        "cnf_matrix = confusion_matrix(y_test, y_pred)\n",
        "np.set_printoptions(precision=2)\n",
        "# plot normalized confusion matrix\n",
        "plt.figure()\n",
        "plot_confusion_matrix(cnf_matrix, classes=train_dict.keys(), title='Normalized confusion matrix')\n",
        "plt.show()"
      ],
      "metadata": {
        "id": "XnVgpGm1gnH-",
        "colab": {
          "base_uri": "https://localhost:8080/",
          "height": 735
        },
        "outputId": "6cccff29-9245-40d1-b01d-02aac8050cad"
      },
      "execution_count": 46,
      "outputs": [
        {
          "output_type": "display_data",
          "data": {
            "text/plain": [
              "<Figure size 432x288 with 0 Axes>"
            ]
          },
          "metadata": {}
        },
        {
          "output_type": "display_data",
          "data": {
            "text/plain": [
              "<Figure size 720x720 with 2 Axes>"
            ],
            "image/png": "[encoded data removed]"
          },
          "metadata": {
            "needs_background": "light"
          }
        }
      ]
    },
    {
      "cell_type": "code",
      "source": [
        "model.save_weights('cartype_model_weights2.h5')"
      ],
      "metadata": {
        "id": "KPqs4sMVgnLo"
      },
      "execution_count": 40,
      "outputs": []
    },
    {
      "cell_type": "code",
      "source": [
        "test_set = datagen.flow_from_directory('/content/drive/MyDrive/classification_dataset/test',\n",
        "                                              target_size = (pic_size,pic_size),\n",
        "                                              color_mode = \"rgb\",\n",
        "                                              batch_size=batch_size,\n",
        "                                              class_mode='categorical',\n",
        "                                              subset='validation',\n",
        "                                              shuffle=False)"
      ],
      "metadata": {
        "colab": {
          "base_uri": "https://localhost:8080/"
        },
        "id": "R_agawmT_Ny-",
        "outputId": "545eaccb-6d06-4565-cdfc-48f46b0f67d4"
      },
      "execution_count": 47,
      "outputs": [
        {
          "output_type": "stream",
          "name": "stdout",
          "text": [
            "Found 168 images belonging to 5 classes.\n"
          ]
        }
      ]
    },
    {
      "cell_type": "code",
      "source": [
        "preds   = model.predict(test_set)\n"
      ],
      "metadata": {
        "colab": {
          "base_uri": "https://localhost:8080/"
        },
        "id": "fhg8BwjQ_YHb",
        "outputId": "97c49b98-aa7d-471f-a9b8-63b0a61528bd"
      },
      "execution_count": 48,
      "outputs": [
        {
          "output_type": "stream",
          "name": "stdout",
          "text": [
            "21/21 [==============================] - 72s 4s/step\n"
          ]
        }
      ]
    },
    {
      "cell_type": "code",
      "source": [
        "results = model.evaluate(test_set)"
      ],
      "metadata": {
        "colab": {
          "base_uri": "https://localhost:8080/"
        },
        "id": "PtmQ20_z_hU4",
        "outputId": "0239be8b-5346-47d0-eb03-ed9625b26cee"
      },
      "execution_count": 50,
      "outputs": [
        {
          "output_type": "stream",
          "name": "stdout",
          "text": [
            "21/21 [==============================] - 6s 280ms/step - loss: 0.9500 - accuracy: 0.7917\n"
          ]
        }
      ]
    },
    {
      "cell_type": "code",
      "source": [
        "print('The current model achieved a categorical accuracy of {}%!'.format(round(results[1]*100,2)))"
      ],
      "metadata": {
        "colab": {
          "base_uri": "https://localhost:8080/"
        },
        "id": "YqhE1PQf_-zN",
        "outputId": "bb1222ea-ee75-4ba4-bc5b-ac3910fbca44"
      },
      "execution_count": 51,
      "outputs": [
        {
          "output_type": "stream",
          "name": "stdout",
          "text": [
            "The current model achieved a categorical accuracy of 79.17%!\n"
          ]
        }
      ]
    }
  ]
}